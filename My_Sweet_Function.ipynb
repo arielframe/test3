{
 "metadata": {
  "name": "",
  "signature": "sha256:c1c744e6e770fb621f9531e26d2938f8a404ed6c7530ca3ad2903195c4b51c0f"
 },
 "nbformat": 3,
 "nbformat_minor": 0,
 "worksheets": [
  {
   "cells": [
    {
     "cell_type": "code",
     "collapsed": false,
     "input": [
      "def matchseq(seq1, seq2):\n",
      "    '''\n",
      "    match two sequences for complementation at each character\n",
      "    +1 for match\n",
      "    -1 for mismatch\n",
      "    0 for gap i.e. -\n",
      "    '''\n",
      "\n",
      "    score = 0\n",
      "    \n",
      "    for character in range(len(seq1)):\n",
      "        if seq1[character] == seq2[character]:\n",
      "            score = score +1\n",
      "        elif seq1[character] == '-' or seq2[character] == '-':\n",
      "            score = score\n",
      "        else:\n",
      "            score = score -1\n",
      "    return score"
     ],
     "language": "python",
     "metadata": {},
     "outputs": [],
     "prompt_number": 14
    },
    {
     "cell_type": "code",
     "collapsed": false,
     "input": [
      "matchseq('ABC', 'ABA')"
     ],
     "language": "python",
     "metadata": {},
     "outputs": [
      {
       "metadata": {},
       "output_type": "pyout",
       "prompt_number": 15,
       "text": [
        "1"
       ]
      }
     ],
     "prompt_number": 15
    },
    {
     "cell_type": "code",
     "collapsed": false,
     "input": [
      "range(len('ABC'))"
     ],
     "language": "python",
     "metadata": {},
     "outputs": [
      {
       "metadata": {},
       "output_type": "pyout",
       "prompt_number": 16,
       "text": [
        "[0, 1, 2]"
       ]
      }
     ],
     "prompt_number": 16
    },
    {
     "cell_type": "code",
     "collapsed": false,
     "input": [
      "def showmeAs(test):\n",
      "    score = ''\n",
      "    for x in range(len(test)):\n",
      "        if x == 'A':\n",
      "            score = score+'A'\n",
      "        elif x != 'A':\n",
      "            score = score\n",
      "    return score"
     ],
     "language": "python",
     "metadata": {},
     "outputs": [],
     "prompt_number": 31
    },
    {
     "cell_type": "code",
     "collapsed": false,
     "input": [
      "showmeAs('AAlksdjfadekfakfakda')"
     ],
     "language": "python",
     "metadata": {},
     "outputs": [
      {
       "metadata": {},
       "output_type": "pyout",
       "prompt_number": 32,
       "text": [
        "''"
       ]
      }
     ],
     "prompt_number": 32
    },
    {
     "cell_type": "code",
     "collapsed": false,
     "input": [],
     "language": "python",
     "metadata": {},
     "outputs": []
    }
   ],
   "metadata": {}
  }
 ]
}