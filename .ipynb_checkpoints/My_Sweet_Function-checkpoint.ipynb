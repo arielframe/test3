{
 "metadata": {
  "name": "",
  "signature": "sha256:7ba89c56f45881aba14b4d2132a77252dd6f631c35f0682b3d0563011963a095"
 },
 "nbformat": 3,
 "nbformat_minor": 0,
 "worksheets": []
}